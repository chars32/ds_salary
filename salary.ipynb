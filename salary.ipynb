{
 "cells": [
  {
   "cell_type": "markdown",
   "metadata": {},
   "source": [
    "# Imports"
   ]
  },
  {
   "cell_type": "code",
   "execution_count": 9,
   "metadata": {},
   "outputs": [],
   "source": [
    "import pandas as pd\n",
    "import matplotlib.pyplot as plt"
   ]
  },
  {
   "cell_type": "markdown",
   "metadata": {},
   "source": [
    "# Main DF"
   ]
  },
  {
   "cell_type": "code",
   "execution_count": 10,
   "metadata": {},
   "outputs": [],
   "source": [
    "df = pd.read_csv('./resources/data_cleaned_2021.csv')\n"
   ]
  },
  {
   "cell_type": "code",
   "execution_count": 11,
   "metadata": {},
   "outputs": [
    {
     "data": {
      "text/plain": [
       "Index(['index', 'Job Title', 'Salary Estimate', 'Job Description', 'Rating',\n",
       "       'Company Name', 'Location', 'Headquarters', 'Size', 'Founded',\n",
       "       'Type of ownership', 'Industry', 'Sector', 'Revenue', 'Competitors',\n",
       "       'Hourly', 'Employer provided', 'Lower Salary', 'Upper Salary',\n",
       "       'Avg Salary(K)', 'company_txt', 'Job Location', 'Age', 'Python',\n",
       "       'spark', 'aws', 'excel', 'sql', 'sas', 'keras', 'pytorch', 'scikit',\n",
       "       'tensor', 'hadoop', 'tableau', 'bi', 'flink', 'mongo', 'google_an',\n",
       "       'job_title_sim', 'seniority_by_title', 'Degree'],\n",
       "      dtype='object')"
      ]
     },
     "execution_count": 11,
     "metadata": {},
     "output_type": "execute_result"
    }
   ],
   "source": [
    "df.columns"
   ]
  },
  {
   "cell_type": "markdown",
   "metadata": {},
   "source": [
    "# 1. Compare data scientist market needs compare to other job titles"
   ]
  },
  {
   "cell_type": "code",
   "execution_count": 12,
   "metadata": {},
   "outputs": [
    {
     "data": {
      "text/plain": [
       "array(['data scientist', 'other scientist', 'analyst', 'data engineer',\n",
       "       'data analitics', 'na', 'data modeler',\n",
       "       'Data scientist project manager', 'machine learning engineer',\n",
       "       'director'], dtype=object)"
      ]
     },
     "execution_count": 12,
     "metadata": {},
     "output_type": "execute_result"
    }
   ],
   "source": [
    "df['job_title_sim'].unique()"
   ]
  },
  {
   "cell_type": "code",
   "execution_count": 13,
   "metadata": {},
   "outputs": [],
   "source": [
    "df.drop(axis = 0, index=df[df.job_title_sim == 'na'].index, inplace=True)\n"
   ]
  },
  {
   "cell_type": "code",
   "execution_count": 14,
   "metadata": {},
   "outputs": [
    {
     "data": {
      "text/plain": [
       "array(['data scientist', 'other scientist', 'analyst', 'data engineer',\n",
       "       'data analitics', 'data modeler', 'Data scientist project manager',\n",
       "       'machine learning engineer', 'director'], dtype=object)"
      ]
     },
     "execution_count": 14,
     "metadata": {},
     "output_type": "execute_result"
    }
   ],
   "source": [
    "df['job_title_sim'].unique()"
   ]
  },
  {
   "cell_type": "code",
   "execution_count": 15,
   "metadata": {},
   "outputs": [
    {
     "data": {
      "text/plain": [
       "data scientist                    313\n",
       "other scientist                   143\n",
       "data engineer                     119\n",
       "analyst                           101\n",
       "machine learning engineer          22\n",
       "Data scientist project manager     16\n",
       "data analitics                      8\n",
       "data modeler                        5\n",
       "director                            5\n",
       "Name: job_title_sim, dtype: int64"
      ]
     },
     "execution_count": 15,
     "metadata": {},
     "output_type": "execute_result"
    }
   ],
   "source": [
    "df_jobs_titles_count = df['job_title_sim'].value_counts()\n",
    "df_jobs_titles_count"
   ]
  },
  {
   "cell_type": "code",
   "execution_count": 16,
   "metadata": {},
   "outputs": [
    {
     "data": {
      "text/plain": [
       "<BarContainer object of 9 artists>"
      ]
     },
     "execution_count": 16,
     "metadata": {},
     "output_type": "execute_result"
    },
    {
     "data": {
      "image/png": "[encoded data removed]",
      "text/plain": [
       "<Figure size 432x288 with 1 Axes>"
      ]
     },
     "metadata": {
      "needs_background": "light"
     },
     "output_type": "display_data"
    }
   ],
   "source": [
    "plt.barh(df['job_title_sim'].value_counts().index, df['job_title_sim'].value_counts().values)"
   ]
  },
  {
   "cell_type": "markdown",
   "metadata": {},
   "source": [
    "# 2. Top 10 companies that are hiring data scientists"
   ]
  },
  {
   "cell_type": "markdown",
   "metadata": {},
   "source": [
    "I understood that column Rating gives the information about the company's reputation."
   ]
  },
  {
   "cell_type": "code",
   "execution_count": 32,
   "metadata": {},
   "outputs": [
    {
     "data": {
      "text/html": [
       "<div>\n",
       "<style scoped>\n",
       "    .dataframe tbody tr th:only-of-type {\n",
       "        vertical-align: middle;\n",
       "    }\n",
       "\n",
       "    .dataframe tbody tr th {\n",
       "        vertical-align: top;\n",
       "    }\n",
       "\n",
       "    .dataframe thead th {\n",
       "        text-align: right;\n",
       "    }\n",
       "</style>\n",
       "<table border=\"1\" class=\"dataframe\">\n",
       "  <thead>\n",
       "    <tr style=\"text-align: right;\">\n",
       "      <th></th>\n",
       "      <th>Company Name</th>\n",
       "      <th>Rating</th>\n",
       "      <th>Job Description</th>\n",
       "      <th>job_title_sim</th>\n",
       "    </tr>\n",
       "  </thead>\n",
       "  <tbody>\n",
       "    <tr>\n",
       "      <th>373</th>\n",
       "      <td>BPA Services\\n5.0</td>\n",
       "      <td>5.0</td>\n",
       "      <td>BPA Services, LLC is seeking a Computer/Data S...</td>\n",
       "      <td>data scientist</td>\n",
       "    </tr>\n",
       "    <tr>\n",
       "      <th>693</th>\n",
       "      <td>SkySync\\n5.0</td>\n",
       "      <td>5.0</td>\n",
       "      <td>SkySync is a dynamic, fast-paced, venture-back...</td>\n",
       "      <td>data scientist</td>\n",
       "    </tr>\n",
       "    <tr>\n",
       "      <th>45</th>\n",
       "      <td>BPA Services\\n5.0</td>\n",
       "      <td>5.0</td>\n",
       "      <td>BPA Services, LLC is seeking a Computer/Data S...</td>\n",
       "      <td>data scientist</td>\n",
       "    </tr>\n",
       "    <tr>\n",
       "      <th>424</th>\n",
       "      <td>Royce Geospatial\\n5.0</td>\n",
       "      <td>5.0</td>\n",
       "      <td>Title: Data Scientist\\n\\nLocation: Springfield...</td>\n",
       "      <td>data scientist</td>\n",
       "    </tr>\n",
       "    <tr>\n",
       "      <th>208</th>\n",
       "      <td>Acuity Insurance\\n4.8</td>\n",
       "      <td>4.8</td>\n",
       "      <td>Acuity is seeking a Senior Research Statistici...</td>\n",
       "      <td>data scientist</td>\n",
       "    </tr>\n",
       "    <tr>\n",
       "      <th>2</th>\n",
       "      <td>KnowBe4\\n4.8</td>\n",
       "      <td>4.8</td>\n",
       "      <td>KnowBe4, Inc. is a high growth information sec...</td>\n",
       "      <td>data scientist</td>\n",
       "    </tr>\n",
       "    <tr>\n",
       "      <th>459</th>\n",
       "      <td>TechProjects\\n4.8</td>\n",
       "      <td>4.8</td>\n",
       "      <td>Hi,\\n\\nGreetings of the Day!!!\\n\\nLooking for ...</td>\n",
       "      <td>data scientist</td>\n",
       "    </tr>\n",
       "    <tr>\n",
       "      <th>29</th>\n",
       "      <td>KnowBe4\\n4.8</td>\n",
       "      <td>4.8</td>\n",
       "      <td>KnowBe4, Inc. is a high growth information sec...</td>\n",
       "      <td>data scientist</td>\n",
       "    </tr>\n",
       "    <tr>\n",
       "      <th>188</th>\n",
       "      <td>Recursion Pharmaceuticals\\n4.7</td>\n",
       "      <td>4.7</td>\n",
       "      <td>At Recursion, we combine experimental biology,...</td>\n",
       "      <td>data scientist</td>\n",
       "    </tr>\n",
       "    <tr>\n",
       "      <th>327</th>\n",
       "      <td>New England Biolabs\\n4.7</td>\n",
       "      <td>4.7</td>\n",
       "      <td>New England Biolabs is seeking a Data Scientis...</td>\n",
       "      <td>data scientist</td>\n",
       "    </tr>\n",
       "  </tbody>\n",
       "</table>\n",
       "</div>"
      ],
      "text/plain": [
       "                       Company Name  Rating  \\\n",
       "373               BPA Services\\n5.0     5.0   \n",
       "693                    SkySync\\n5.0     5.0   \n",
       "45                BPA Services\\n5.0     5.0   \n",
       "424           Royce Geospatial\\n5.0     5.0   \n",
       "208           Acuity Insurance\\n4.8     4.8   \n",
       "2                      KnowBe4\\n4.8     4.8   \n",
       "459               TechProjects\\n4.8     4.8   \n",
       "29                     KnowBe4\\n4.8     4.8   \n",
       "188  Recursion Pharmaceuticals\\n4.7     4.7   \n",
       "327        New England Biolabs\\n4.7     4.7   \n",
       "\n",
       "                                       Job Description   job_title_sim  \n",
       "373  BPA Services, LLC is seeking a Computer/Data S...  data scientist  \n",
       "693  SkySync is a dynamic, fast-paced, venture-back...  data scientist  \n",
       "45   BPA Services, LLC is seeking a Computer/Data S...  data scientist  \n",
       "424  Title: Data Scientist\\n\\nLocation: Springfield...  data scientist  \n",
       "208  Acuity is seeking a Senior Research Statistici...  data scientist  \n",
       "2    KnowBe4, Inc. is a high growth information sec...  data scientist  \n",
       "459  Hi,\\n\\nGreetings of the Day!!!\\n\\nLooking for ...  data scientist  \n",
       "29   KnowBe4, Inc. is a high growth information sec...  data scientist  \n",
       "188  At Recursion, we combine experimental biology,...  data scientist  \n",
       "327  New England Biolabs is seeking a Data Scientis...  data scientist  "
      ]
     },
     "execution_count": 32,
     "metadata": {},
     "output_type": "execute_result"
    }
   ],
   "source": [
    "df[df['job_title_sim'] == 'data scientist'].sort_values(by=['Rating'], ascending=False)[['Company Name', 'Rating', 'Job Description', 'job_title_sim']].head(10)"
   ]
  },
  {
   "cell_type": "code",
   "execution_count": 33,
   "metadata": {},
   "outputs": [
    {
     "data": {
      "text/plain": [
       "Reynolds American\\n3.1                                  14\n",
       "Takeda Pharmaceuticals\\n3.7                             14\n",
       "MassMutual\\n3.6                                         12\n",
       "Software Engineering Institute\\n2.6                     11\n",
       "Liberty Mutual Insurance\\n3.3                           10\n",
       "                                                        ..\n",
       "University of Maryland Medical System\\n3.4               1\n",
       "Dayton Freight Lines, Inc.\\n4.3                          1\n",
       "Community Action Partnership of San Luis Obispo\\n2.8     1\n",
       "TrueAccord\\n3.4                                          1\n",
       "Fivestars\\n3.9                                           1\n",
       "Name: Company Name, Length: 339, dtype: int64"
      ]
     },
     "execution_count": 33,
     "metadata": {},
     "output_type": "execute_result"
    }
   ],
   "source": [
    "df['Company Name'].value_counts()"
   ]
  },
  {
   "cell_type": "markdown",
   "metadata": {},
   "source": [
    "# 3 Data scientists sector , top 10 sectors that asks for data scientists¶"
   ]
  },
  {
   "cell_type": "code",
   "execution_count": 70,
   "metadata": {},
   "outputs": [],
   "source": [
    "df_datascientist = df[df['job_title_sim'] == 'data scientist']"
   ]
  },
  {
   "cell_type": "code",
   "execution_count": 74,
   "metadata": {},
   "outputs": [
    {
     "data": {
      "text/plain": [
       "Information Technology          81\n",
       "Business Services               47\n",
       "Biotech & Pharmaceuticals       38\n",
       "Insurance                       34\n",
       "Finance                         25\n",
       "Aerospace & Defense             14\n",
       "Oil, Gas, Energy & Utilities    12\n",
       "Government                       8\n",
       "Education                        8\n",
       "Health Care                      7\n",
       "Name: Sector, dtype: int64"
      ]
     },
     "execution_count": 74,
     "metadata": {},
     "output_type": "execute_result"
    }
   ],
   "source": [
    "df_top_sectors = df_datascientist['Sector'].value_counts().head(10)\n",
    "df_top_sectors"
   ]
  },
  {
   "cell_type": "markdown",
   "metadata": {},
   "source": [
    "# "
   ]
  },
  {
   "cell_type": "code",
   "execution_count": 75,
   "metadata": {},
   "outputs": [
    {
     "data": {
      "text/plain": [
       "<BarContainer object of 10 artists>"
      ]
     },
     "execution_count": 75,
     "metadata": {},
     "output_type": "execute_result"
    },
    {
     "data": {
      "image/png": "[encoded data removed]",
      "text/plain": [
       "<Figure size 432x288 with 1 Axes>"
      ]
     },
     "metadata": {
      "needs_background": "light"
     },
     "output_type": "display_data"
    }
   ],
   "source": [
    "plt.barh(df_top_sectors.index, df_top_sectors.values)"
   ]
  },
  {
   "cell_type": "code",
   "execution_count": null,
   "metadata": {},
   "outputs": [],
   "source": []
  }
 ],
 "metadata": {
  "interpreter": {
   "hash": "49d615eca9848eb82d8087399fd3044e0536f01d9ce96336b2951ba2a76dba76"
  },
  "kernelspec": {
   "display_name": "Python 3.8.0 32-bit",
   "language": "python",
   "name": "python3"
  },
  "language_info": {
   "codemirror_mode": {
    "name": "ipython",
    "version": 3
   },
   "file_extension": ".py",
   "mimetype": "text/x-python",
   "name": "python",
   "nbconvert_exporter": "python",
   "pygments_lexer": "ipython3",
   "version": "3.10.2"
  },
  "orig_nbformat": 4
 },
 "nbformat": 4,
 "nbformat_minor": 2
}
